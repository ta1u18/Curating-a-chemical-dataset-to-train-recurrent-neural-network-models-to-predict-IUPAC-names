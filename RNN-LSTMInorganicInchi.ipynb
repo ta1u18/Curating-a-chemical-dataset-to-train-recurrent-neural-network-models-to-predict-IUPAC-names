{
 "cells": [
  {
   "cell_type": "code",
   "execution_count": 1,
   "metadata": {
    "colab": {
     "base_uri": "https://localhost:8080/"
    },
    "executionInfo": {
     "elapsed": 179,
     "status": "ok",
     "timestamp": 1629448132153,
     "user": {
      "displayName": "Thomas Allam",
      "photoUrl": "",
      "userId": "01919819717721770658"
     },
     "user_tz": -60
    },
    "id": "f17xGmi7MXns",
    "outputId": "689cd247-aa86-429d-89c1-64ff6be7b5ca"
   },
   "outputs": [],
   "source": [
    "import os\n",
    "data_path=r\"C:\\Users\\thoma\\Internship\\RNN LSTM model\\Input data\\InorganicInchiNames.txt\""
   ]
  },
  {
   "cell_type": "code",
   "execution_count": 2,
   "metadata": {
    "colab": {
     "base_uri": "https://localhost:8080/"
    },
    "executionInfo": {
     "elapsed": 2822,
     "status": "ok",
     "timestamp": 1629448168186,
     "user": {
      "displayName": "Thomas Allam",
      "photoUrl": "",
      "userId": "01919819717721770658"
     },
     "user_tz": -60
    },
    "id": "OPLlz5cWLYNx",
    "outputId": "5445386e-f3f0-49e6-ea3a-4a4814866cfa"
   },
   "outputs": [
    {
     "name": "stdout",
     "output_type": "stream",
     "text": [
      "Loading inputs and outputs\n",
      "Generating alphabets\n",
      "Input alphabet:\n",
      "['Ø', ' ', '!', '\"', '#', '$', '%', '&', \"'\", '(', ')', '*', '+', ',', '-', '.', '/', '0', '1', '2', '3', '4', '5', '6', '7', '8', '9', ':', ';', '<', '=', '>', '?', '@', 'A', 'B', 'C', 'D', 'E', 'F', 'G', 'H', 'I', 'J', 'K', 'L', 'M', 'N', 'O', 'P', 'Q', 'R', 'S', 'T', 'U', 'V', 'W', 'X', 'Y', 'Z', '[', '\\\\', ']', '^', '_', '`', 'a', 'b', 'c', 'd', 'e', 'f', 'g', 'h', 'i', 'j', 'k', 'l', 'm', 'n', 'o', 'p', 'q', 'r', 's', 't', 'u', 'v', 'w', 'x', 'y', 'z', '{', '|', '}', '~']\n",
      "Target alphabet:\n",
      "['Ø', '\\t', '\\n', ' ', '!', '\"', '#', '$', '%', '&', \"'\", '(', ')', '*', '+', ',', '-', '.', '/', '0', '1', '2', '3', '4', '5', '6', '7', '8', '9', ':', ';', '<', '=', '>', '?', '@', 'A', 'B', 'C', 'D', 'E', 'F', 'G', 'H', 'I', 'J', 'K', 'L', 'M', 'N', 'O', 'P', 'Q', 'R', 'S', 'T', 'U', 'V', 'W', 'X', 'Y', 'Z', '[', '\\\\', ']', '^', '_', '`', 'a', 'b', 'c', 'd', 'e', 'f', 'g', 'h', 'i', 'j', 'k', 'l', 'm', 'n', 'o', 'p', 'q', 'r', 's', 't', 'u', 'v', 'w', 'x', 'y', 'z', '{', '|', '}', '~', 'λ', '²', '⁶', 'λ', '₇', '⁵', '⁴', '⁷', '³', '⁸', '¹', '⁰', '⁹', '₂', '₄', '₃', '₁', '₉', '₆', '₅', 'λ', '⁻', '₈']\n",
      "Number of samples: 66825\n",
      "Number of training samples: 53460\n",
      "Number of validation samples: 13365\n",
      "Number of unique input tokens: 96\n",
      "Number of unique output tokens: 121\n",
      "Max sequence length for input: 200\n",
      "Max sequence length for target: 128\n",
      "\n",
      "Model: \"model\"\n",
      "__________________________________________________________________________________________________\n",
      "Layer (type)                    Output Shape         Param #     Connected to                     \n",
      "==================================================================================================\n",
      "input_1 (InputLayer)            [(None, None)]       0                                            \n",
      "__________________________________________________________________________________________________\n",
      "input_2 (InputLayer)            [(None, None)]       0                                            \n",
      "__________________________________________________________________________________________________\n",
      "embedding (Embedding)           (None, None, 96)     9216        input_1[0][0]                    \n",
      "__________________________________________________________________________________________________\n",
      "embedding_1 (Embedding)         (None, None, 121)    14641       input_2[0][0]                    \n",
      "__________________________________________________________________________________________________\n",
      "lstm (LSTM)                     [(None, 256), (None, 361472      embedding[0][0]                  \n",
      "__________________________________________________________________________________________________\n",
      "lstm_1 (LSTM)                   [(None, None, 256),  387072      embedding_1[0][0]                \n",
      "                                                                 lstm[0][1]                       \n",
      "                                                                 lstm[0][2]                       \n",
      "__________________________________________________________________________________________________\n",
      "dense (Dense)                   (None, None, 121)    31097       lstm_1[0][0]                     \n",
      "==================================================================================================\n",
      "Total params: 803,498\n",
      "Trainable params: 779,641\n",
      "Non-trainable params: 23,857\n",
      "__________________________________________________________________________________________________\n"
     ]
    }
   ],
   "source": [
    "import numpy as np\n",
    "import tensorflow as tf\n",
    "from tensorflow import keras\n",
    "import datetime\n",
    "from math import ceil\n",
    "from sklearn.model_selection import train_test_split\n",
    "\n",
    "#################################################################################\n",
    "# Functions\n",
    "#################################################################################\n",
    "def loadInputsTargets(data_path, max_samples, max_inp_length=200, max_targ_length=200, start_token='\\t',\n",
    "                                                                            end_token='\\n', incol=0, targcol=2):\n",
    "    \"\"\" -> list, list, int\n",
    "    Load inputs and targets from a tsv file\n",
    "    \"\"\"\n",
    "    input_list = []\n",
    "    target_list =[]\n",
    "    # Store true number of samples\n",
    "    with open(data_path, \"r\", encoding=\"utf-8\") as f:\n",
    "        lines = f.read().split(\"\\n\")\n",
    "    for line in lines[: min(max_samples, len(lines) - 1)]:\n",
    "        # Get input and target, and pad target\n",
    "        cur_line = line.split(\"\\t\")\n",
    "        inp = cur_line[incol]\n",
    "        targ = cur_line[targcol]\n",
    "        targ = start_token + targ + end_token\n",
    "        # Only accept input and targ below specified length\n",
    "        if (len(inp) <= max_inp_length) and (len(targ) <= max_targ_length):\n",
    "            input_list.append(inp)\n",
    "            target_list.append(targ)\n",
    "    return input_list, target_list\n",
    "\n",
    "def generateAsciiAlphabet(start_code=32, final_code=126, start_token=None, end_token=None, pad_token='Ø', additions=[]):\n",
    "    \"\"\" (int, int, char, char, char, list of chars) -> list\n",
    "    Generates a set of ascii tokens with decimal code from start_code to final_code inclusive.\n",
    "    Also adds any extra chars in additions.\n",
    "    The pad token will be the first item in the list\n",
    "    \"\"\"\n",
    "    alphabet = []\n",
    "    if pad_token and len(pad_token) == 1:\n",
    "        alphabet.append(pad_token)\n",
    "    if start_token and len(start_token) == 1:\n",
    "        alphabet.append(start_token)\n",
    "    if end_token and len(end_token) == 1:\n",
    "        alphabet.append(end_token)\n",
    "\n",
    "    asc = [chr(x) for x in range(start_code, final_code+1)]\n",
    "    alphabet.extend(asc)\n",
    "    alphabet.extend(additions)\n",
    "\n",
    "    return alphabet\n",
    "\n",
    "def generateEmpiricalAlphabet(sample_list, additions=[]):\n",
    "    \"\"\" list -> list\n",
    "    Generate alphabet for a list of strings\n",
    "    Returns a sorted list.\n",
    "    \"\"\"\n",
    "    alphabet = set()\n",
    "    for sample in sample_list:\n",
    "        for char in sample:\n",
    "            if char not in alphabet:\n",
    "                alphabet.add(char)\n",
    "                print(\"Found new character '{}' in:\".format(char))\n",
    "                print(sample.strip())\n",
    "                print(\"Adding it to the alphabet.\")\n",
    "                print(\"\")\n",
    "    for c in additions:\n",
    "        alphabet.add(c)\n",
    "    return sorted(list(alphabet))\n",
    "\n",
    "# Sample generator\n",
    "def genSample(input_list, target_list, input_token_index, target_token_index, pad_token):\n",
    "    \"\"\" -> generator\n",
    "    Generator for loading samples on the fly\n",
    "    \"\"\"\n",
    "    for (inp, targ) in zip(input_list, target_list):\n",
    "        encoder_input_sample = [input_token_index[x] for x in inp]\n",
    "        # We don't need to input the end token to the decoder, it just\n",
    "        # needs to be predicted\n",
    "        decoder_input_sample = [target_token_index[x] for x in targ[:-1]]\n",
    "        # decoder_target_sample is ahead of decoder_input_sample by one timestep\n",
    "        decoder_target_sample = [target_token_index[x] for x in targ[1:]]\n",
    "        yield ((encoder_input_sample, decoder_input_sample), decoder_target_sample)\n",
    "\n",
    "#################################################################################\n",
    "# Procedural bit\n",
    "#################################################################################\n",
    "keras.backend.clear_session()\n",
    "\n",
    "# Set random seed\n",
    "from numpy.random import seed\n",
    "seed(4238943)\n",
    "from tensorflow.random import set_seed\n",
    "set_seed(3824088)\n",
    "\n",
    "# Path to the data txt file on disk.\n",
    "#data_path = 'InorganicInchiNames.txt'\n",
    "max_samples = 67781 # Number of samples to train on.\n",
    "#data_path = 'MetallicsReconnectedNames.txt'\n",
    "#max_samples = 164799 # Number of samples to train on.\n",
    "\n",
    "# Constants\n",
    "batch_size = 512  # Batch size for training.\n",
    "epochs = 50 #30 # Number of epochs to train for.\n",
    "latent_dim = 256  # Latent dimensionality of the encoding space.\n",
    "\n",
    "max_encoder_seq_length = 200\n",
    "max_decoder_seq_length = 128\n",
    "start_token = '\\t'\n",
    "end_token = '\\n'\n",
    "pad_token = 'Ø'\n",
    "\n",
    "# Load training data\n",
    "print('Loading inputs and outputs')\n",
    "input_list, target_list = loadInputsTargets(data_path, max_samples, max_inp_length=max_encoder_seq_length,\n",
    "        max_targ_length=max_decoder_seq_length, start_token=start_token, end_token=end_token, incol=0, targcol=1)\n",
    "\n",
    "# Generate alphabets as sorted lists\n",
    "print('Generating alphabets')\n",
    "input_alphabet = generateAsciiAlphabet(pad_token=pad_token)\n",
    "print('Input alphabet:')\n",
    "print(input_alphabet)\n",
    "\n",
    "# Using start and end token for targets only\n",
    "target_alphabet = generateAsciiAlphabet(start_token=start_token, end_token=end_token, pad_token=pad_token,\n",
    "                                                                                            additions=['λ','²','⁶','λ','₇','⁵','⁴','⁷','³','⁸','¹','⁰','⁹','₂','₄','₃','₁','₉','₆','₅','λ','⁻','₈'])\n",
    "\n",
    "print('Target alphabet:')\n",
    "print(target_alphabet)\n",
    "\n",
    "num_encoder_tokens = len(input_alphabet)\n",
    "num_decoder_tokens = len(target_alphabet)\n",
    "\n",
    "assert(len(input_list) == len(target_list))\n",
    "\n",
    "# Split into training set and validation set\n",
    "input_train, input_val, target_train, target_val = train_test_split(\n",
    "        input_list, target_list, test_size=0.2, random_state=24)\n",
    "\n",
    "print(\"Number of samples:\", len(input_list))\n",
    "print(\"Number of training samples:\", len(input_train))\n",
    "print(\"Number of validation samples:\", len(input_val))\n",
    "print(\"Number of unique input tokens:\", num_encoder_tokens)\n",
    "print(\"Number of unique output tokens:\", num_decoder_tokens)\n",
    "print(\"Max sequence length for input:\", max_encoder_seq_length)\n",
    "print(\"Max sequence length for target:\", max_decoder_seq_length)\n",
    "print('')\n",
    "\n",
    "# Build token -> index dictionaries\n",
    "inchi_token_index = dict([(char, i) for i, char in enumerate(input_alphabet)])\n",
    "iupac_token_index = dict([(char, i) for i, char in enumerate(target_alphabet)])\n",
    "\n",
    "# Get training set in tf.data dataset format\n",
    "trainset = tf.data.Dataset.from_generator(\n",
    "        lambda: genSample(input_train, target_train, inchi_token_index,\n",
    "                                                    iupac_token_index, pad_token),\n",
    "        output_types=((tf.int32, tf.int32), tf.int32),\n",
    "        output_shapes=(\n",
    "            (tf.TensorShape([None]),\n",
    "                tf.TensorShape([None])),\n",
    "            tf.TensorShape([None]))\n",
    ")\n",
    "\n",
    "trainset = trainset.padded_batch(batch_size).prefetch(tf.data.experimental.AUTOTUNE)\n",
    "\n",
    "# Get validation set in tf.data dataset format\n",
    "valset = tf.data.Dataset.from_generator(\n",
    "        lambda: genSample(input_val, target_val, inchi_token_index,\n",
    "                                                    iupac_token_index, pad_token),\n",
    "        output_types=((tf.int32, tf.int32), tf.int32),\n",
    "        output_shapes=(\n",
    "            (tf.TensorShape([None]),\n",
    "                tf.TensorShape([None])),\n",
    "            tf.TensorShape([None]))\n",
    ")\n",
    "\n",
    "valset = valset.padded_batch(batch_size).prefetch(tf.data.experimental.AUTOTUNE)\n",
    "\n",
    "# Build the model\n",
    "# TODO: add weight normalization\n",
    "\n",
    "# Define encoder\n",
    "# The embedding matrix is generally num_tokens x embedding_dim\n",
    "encoder_inputs = keras.Input(shape=(None,), dtype=tf.int32)\n",
    "encoder_embedding_mat = np.eye(num_encoder_tokens)\n",
    "encoder_embedding_layer = keras.layers.Embedding(\n",
    "        num_encoder_tokens,\n",
    "        num_encoder_tokens, #Embedding dimension is same as number of tokens\n",
    "        embeddings_initializer = keras.initializers.Constant(encoder_embedding_mat), #Not actually constant\n",
    "        trainable=False, #This makes embeddings constant\n",
    "        mask_zero=True\n",
    ")\n",
    "encoder_embedded_seqs = encoder_embedding_layer(encoder_inputs)\n",
    "#encoder_inputs = keras.Input(shape=(None, num_encoder_tokens))\n",
    "encoder = keras.layers.LSTM(latent_dim, return_state=True, dropout=0.5)\n",
    "encoder_outputs, state_h, state_c = encoder(encoder_embedded_seqs)\n",
    "\n",
    "# We discard `encoder_outputs` and only keep the states.\n",
    "encoder_states = [state_h, state_c]\n",
    "\n",
    "# Define decoder\n",
    "decoder_inputs = keras.Input(shape=(None,), dtype=tf.int32) #Accepts batch of lists\n",
    "decoder_embedding_mat = np.eye(num_decoder_tokens)\n",
    "decoder_embedding_layer = keras.layers.Embedding(\n",
    "        num_decoder_tokens,\n",
    "        num_decoder_tokens, #Embedding dimension is same as number of tokens\n",
    "        embeddings_initializer = keras.initializers.Constant(decoder_embedding_mat), #Not actually constant\n",
    "        trainable=False, #This makes embeddings constant\n",
    "        mask_zero=True\n",
    ") # Convert lists to embeddings\n",
    "decoder_embedded_seqs = decoder_embedding_layer(decoder_inputs)\n",
    "# We set up our decoder to return full output sequences,\n",
    "# and to return internal states as well. We don't use the\n",
    "# return states in the training model, but we will use them in inference.\n",
    "decoder_lstm = keras.layers.LSTM(latent_dim, return_sequences=True, return_state=True, dropout=0.5)\n",
    "decoder_outputs, _, _ = decoder_lstm(decoder_embedded_seqs, initial_state=encoder_states)\n",
    "decoder_dense = keras.layers.Dense(num_decoder_tokens, activation=None)\n",
    "decoder_outputs = decoder_dense(decoder_outputs)\n",
    "\n",
    "# Define the model that will turn\n",
    "# `encoder_input_data` & `decoder_input_data` into `decoder_target_data`\n",
    "model = keras.Model([encoder_inputs, decoder_inputs], decoder_outputs)\n",
    "model.summary()\n",
    "\n",
    "# Loss is sum of losses over batch, from logits\n",
    "loss_function = keras.losses.SparseCategoricalCrossentropy(from_logits=True)\n",
    "\n",
    "# Optimizer\n",
    "optimizer = keras.optimizers.Adam(\n",
    "        learning_rate=0.001,\n",
    "        clipnorm=3\n",
    ")\n",
    "\n",
    "model.compile(\n",
    "    optimizer=optimizer, loss=loss_function, metrics=[\"accuracy\"]\n",
    ")\n",
    "\n",
    "# Tensorboard setup\n",
    "log_dir = \"logs/\" + datetime.datetime.now().strftime(\"%Y%m%d-%H%M%S\")\n",
    "tensorboard_callback = tf.keras.callbacks.TensorBoard(log_dir=log_dir, histogram_freq=1)\n",
    "\n",
    "# Early stopping setup\n",
    "stopping_callback = tf.keras.callbacks.EarlyStopping(\n",
    "        min_delta = 1e-4,\n",
    "        patience = 3,\n",
    "        restore_best_weights=True\n",
    ")\n"
   ]
  },
  {
   "cell_type": "code",
   "execution_count": 3,
   "metadata": {
    "colab": {
     "base_uri": "https://localhost:8080/",
     "height": 466
    },
    "executionInfo": {
     "elapsed": 524,
     "status": "ok",
     "timestamp": 1629365524894,
     "user": {
      "displayName": "Thomas Allam",
      "photoUrl": "",
      "userId": "01919819717721770658"
     },
     "user_tz": -60
    },
    "id": "VFEhVizsOlT5",
    "outputId": "e0cfc0ad-ee63-46a7-c6c8-0ff5205fbe70"
   },
   "outputs": [
    {
     "name": "stdout",
     "output_type": "stream",
     "text": [
      "('You must install pydot (`pip install pydot`) and install graphviz (see instructions at https://graphviz.gitlab.io/download/) ', 'for plot_model/model_to_dot to work.')\n"
     ]
    }
   ],
   "source": [
    "from keras.utils.vis_utils import plot_model\n",
    "plot_model(model, to_file='model.png')"
   ]
  },
  {
   "cell_type": "code",
   "execution_count": 4,
   "metadata": {
    "colab": {
     "base_uri": "https://localhost:8080/"
    },
    "id": "14wLM2DxL2S4",
    "outputId": "34b4ef6c-6f49-47b6-b488-fbf927253b2f"
   },
   "outputs": [
    {
     "name": "stdout",
     "output_type": "stream",
     "text": [
      "Epoch 1/50\n",
      "105/105 [==============================] - 19s 103ms/step - loss: 0.9025 - accuracy: 0.1281 - val_loss: 0.8154 - val_accuracy: 0.2032\n",
      "Epoch 2/50\n",
      "105/105 [==============================] - 12s 118ms/step - loss: 0.7522 - accuracy: 0.2456 - val_loss: 0.6579 - val_accuracy: 0.3625\n",
      "Epoch 3/50\n",
      "105/105 [==============================] - 42s 407ms/step - loss: 0.6677 - accuracy: 0.3129 - val_loss: 0.5688 - val_accuracy: 0.4366\n",
      "Epoch 4/50\n",
      "105/105 [==============================] - 39s 371ms/step - loss: 0.6230 - accuracy: 0.3517 - val_loss: 0.5165 - val_accuracy: 0.4799\n",
      "Epoch 5/50\n",
      "105/105 [==============================] - 32s 274ms/step - loss: 0.5894 - accuracy: 0.3820 - val_loss: 0.4731 - val_accuracy: 0.5217\n",
      "Epoch 6/50\n",
      "105/105 [==============================] - 9s 82ms/step - loss: 0.5624 - accuracy: 0.4080 - val_loss: 0.4412 - val_accuracy: 0.5494\n",
      "Epoch 7/50\n",
      "105/105 [==============================] - 9s 83ms/step - loss: 0.5418 - accuracy: 0.4278 - val_loss: 0.4154 - val_accuracy: 0.5746\n",
      "Epoch 8/50\n",
      "105/105 [==============================] - 9s 82ms/step - loss: 0.5233 - accuracy: 0.4460 - val_loss: 0.3930 - val_accuracy: 0.5975\n",
      "Epoch 9/50\n",
      "105/105 [==============================] - 9s 83ms/step - loss: 0.5089 - accuracy: 0.4601 - val_loss: 0.3753 - val_accuracy: 0.6135\n",
      "Epoch 10/50\n",
      "105/105 [==============================] - 9s 83ms/step - loss: 0.4952 - accuracy: 0.4737 - val_loss: 0.3608 - val_accuracy: 0.6243\n",
      "Epoch 11/50\n",
      "105/105 [==============================] - 9s 82ms/step - loss: 0.4829 - accuracy: 0.4867 - val_loss: 0.3460 - val_accuracy: 0.6401\n",
      "Epoch 12/50\n",
      "105/105 [==============================] - 9s 82ms/step - loss: 0.4716 - accuracy: 0.4988 - val_loss: 0.3345 - val_accuracy: 0.6520\n",
      "Epoch 13/50\n",
      "105/105 [==============================] - 9s 82ms/step - loss: 0.4613 - accuracy: 0.5088 - val_loss: 0.3198 - val_accuracy: 0.6664\n",
      "Epoch 14/50\n",
      "105/105 [==============================] - 9s 82ms/step - loss: 0.4507 - accuracy: 0.5199 - val_loss: 0.3093 - val_accuracy: 0.6755\n",
      "Epoch 15/50\n",
      "105/105 [==============================] - 9s 82ms/step - loss: 0.4412 - accuracy: 0.5294 - val_loss: 0.2976 - val_accuracy: 0.6882\n",
      "Epoch 16/50\n",
      "105/105 [==============================] - 9s 82ms/step - loss: 0.4320 - accuracy: 0.5385 - val_loss: 0.2891 - val_accuracy: 0.6968\n",
      "Epoch 17/50\n",
      "105/105 [==============================] - 9s 82ms/step - loss: 0.4230 - accuracy: 0.5474 - val_loss: 0.2790 - val_accuracy: 0.7070\n",
      "Epoch 18/50\n",
      "105/105 [==============================] - 9s 82ms/step - loss: 0.4142 - accuracy: 0.5563 - val_loss: 0.2715 - val_accuracy: 0.7146\n",
      "Epoch 19/50\n",
      "105/105 [==============================] - 9s 82ms/step - loss: 0.4067 - accuracy: 0.5637 - val_loss: 0.2630 - val_accuracy: 0.7222\n",
      "Epoch 20/50\n",
      "105/105 [==============================] - 9s 82ms/step - loss: 0.3990 - accuracy: 0.5712 - val_loss: 0.2552 - val_accuracy: 0.7303\n",
      "Epoch 21/50\n",
      "105/105 [==============================] - 9s 81ms/step - loss: 0.3927 - accuracy: 0.5769 - val_loss: 0.2469 - val_accuracy: 0.7388\n",
      "Epoch 22/50\n",
      "105/105 [==============================] - 9s 82ms/step - loss: 0.3845 - accuracy: 0.5857 - val_loss: 0.2396 - val_accuracy: 0.7458\n",
      "Epoch 23/50\n",
      "105/105 [==============================] - 9s 82ms/step - loss: 0.3777 - accuracy: 0.5920 - val_loss: 0.2329 - val_accuracy: 0.7532\n",
      "Epoch 24/50\n",
      "105/105 [==============================] - 9s 81ms/step - loss: 0.3708 - accuracy: 0.5988 - val_loss: 0.2266 - val_accuracy: 0.7605\n",
      "Epoch 25/50\n",
      "105/105 [==============================] - 9s 82ms/step - loss: 0.3645 - accuracy: 0.6050 - val_loss: 0.2213 - val_accuracy: 0.7642\n",
      "Epoch 26/50\n",
      "105/105 [==============================] - 9s 82ms/step - loss: 0.3585 - accuracy: 0.6112 - val_loss: 0.2164 - val_accuracy: 0.7676\n",
      "Epoch 27/50\n",
      "105/105 [==============================] - 9s 82ms/step - loss: 0.3535 - accuracy: 0.6162 - val_loss: 0.2087 - val_accuracy: 0.7766\n",
      "Epoch 28/50\n",
      "105/105 [==============================] - 9s 82ms/step - loss: 0.3483 - accuracy: 0.6212 - val_loss: 0.2049 - val_accuracy: 0.7803\n",
      "Epoch 29/50\n",
      "105/105 [==============================] - 9s 82ms/step - loss: 0.3422 - accuracy: 0.6277 - val_loss: 0.1986 - val_accuracy: 0.7864\n",
      "Epoch 30/50\n",
      "105/105 [==============================] - 9s 82ms/step - loss: 0.3374 - accuracy: 0.6323 - val_loss: 0.1951 - val_accuracy: 0.7886\n",
      "Epoch 31/50\n",
      "105/105 [==============================] - 9s 82ms/step - loss: 0.3332 - accuracy: 0.6368 - val_loss: 0.1916 - val_accuracy: 0.7930\n",
      "Epoch 32/50\n",
      "105/105 [==============================] - 9s 82ms/step - loss: 0.3288 - accuracy: 0.6410 - val_loss: 0.1880 - val_accuracy: 0.7962\n",
      "Epoch 33/50\n",
      "105/105 [==============================] - 9s 82ms/step - loss: 0.3245 - accuracy: 0.6452 - val_loss: 0.1836 - val_accuracy: 0.8007\n",
      "Epoch 34/50\n",
      "105/105 [==============================] - 9s 82ms/step - loss: 0.3205 - accuracy: 0.6494 - val_loss: 0.1809 - val_accuracy: 0.8032\n",
      "Epoch 35/50\n",
      "105/105 [==============================] - 9s 82ms/step - loss: 0.3166 - accuracy: 0.6537 - val_loss: 0.1782 - val_accuracy: 0.8058\n",
      "Epoch 36/50\n",
      "105/105 [==============================] - 9s 82ms/step - loss: 0.3134 - accuracy: 0.6574 - val_loss: 0.1742 - val_accuracy: 0.8103\n",
      "Epoch 37/50\n",
      "105/105 [==============================] - 9s 82ms/step - loss: 0.3094 - accuracy: 0.6612 - val_loss: 0.1712 - val_accuracy: 0.8137\n",
      "Epoch 38/50\n",
      "105/105 [==============================] - 9s 82ms/step - loss: 0.3055 - accuracy: 0.6649 - val_loss: 0.1685 - val_accuracy: 0.8155\n",
      "Epoch 39/50\n",
      "105/105 [==============================] - 9s 82ms/step - loss: 0.3029 - accuracy: 0.6676 - val_loss: 0.1662 - val_accuracy: 0.8178\n",
      "Epoch 40/50\n",
      "105/105 [==============================] - 9s 82ms/step - loss: 0.2988 - accuracy: 0.6720 - val_loss: 0.1625 - val_accuracy: 0.8224\n",
      "Epoch 41/50\n",
      "105/105 [==============================] - 9s 82ms/step - loss: 0.2969 - accuracy: 0.6738 - val_loss: 0.1614 - val_accuracy: 0.8235\n",
      "Epoch 42/50\n",
      "105/105 [==============================] - 9s 82ms/step - loss: 0.2936 - accuracy: 0.6772 - val_loss: 0.1590 - val_accuracy: 0.8252\n",
      "Epoch 43/50\n",
      "105/105 [==============================] - 9s 82ms/step - loss: 0.2908 - accuracy: 0.6801 - val_loss: 0.1570 - val_accuracy: 0.8278\n",
      "Epoch 44/50\n",
      "105/105 [==============================] - 9s 82ms/step - loss: 0.2882 - accuracy: 0.6834 - val_loss: 0.1536 - val_accuracy: 0.8317\n",
      "Epoch 45/50\n",
      "105/105 [==============================] - 9s 82ms/step - loss: 0.2853 - accuracy: 0.6861 - val_loss: 0.1527 - val_accuracy: 0.8319\n",
      "Epoch 46/50\n",
      "105/105 [==============================] - 9s 82ms/step - loss: 0.2829 - accuracy: 0.6886 - val_loss: 0.1506 - val_accuracy: 0.8341\n",
      "Epoch 47/50\n",
      "105/105 [==============================] - 9s 83ms/step - loss: 0.2811 - accuracy: 0.6903 - val_loss: 0.1485 - val_accuracy: 0.8361\n",
      "Epoch 48/50\n",
      "105/105 [==============================] - 9s 82ms/step - loss: 0.2786 - accuracy: 0.6928 - val_loss: 0.1472 - val_accuracy: 0.8375\n",
      "Epoch 49/50\n",
      "105/105 [==============================] - 9s 82ms/step - loss: 0.2767 - accuracy: 0.6947 - val_loss: 0.1447 - val_accuracy: 0.8396\n",
      "Epoch 50/50\n",
      "105/105 [==============================] - 9s 82ms/step - loss: 0.2739 - accuracy: 0.6979 - val_loss: 0.1436 - val_accuracy: 0.8408\n"
     ]
    },
    {
     "name": "stderr",
     "output_type": "stream",
     "text": [
      "WARNING:absl:Found untraced functions such as lstm_cell_layer_call_fn, lstm_cell_layer_call_and_return_conditional_losses, lstm_cell_1_layer_call_fn, lstm_cell_1_layer_call_and_return_conditional_losses, lstm_cell_layer_call_fn while saving (showing 5 of 10). These functions will not be directly callable after loading.\n"
     ]
    },
    {
     "name": "stdout",
     "output_type": "stream",
     "text": [
      "INFO:tensorflow:Assets written to: s2s\\assets\n"
     ]
    },
    {
     "name": "stderr",
     "output_type": "stream",
     "text": [
      "INFO:tensorflow:Assets written to: s2s\\assets\n"
     ]
    }
   ],
   "source": [
    "\n",
    "history=model.fit(\n",
    "    trainset,\n",
    "#    steps_per_epoch=ceil(len(input_train)/batch_size),\n",
    "    validation_data=valset,\n",
    "#    validation_steps=ceil(len(input_val)/batch_size),\n",
    "    epochs=epochs,\n",
    "    callbacks=[stopping_callback]\n",
    ")\n",
    "\n",
    "# Save model\n",
    "model.save(\"s2s\")\n"
   ]
  },
  {
   "cell_type": "code",
   "execution_count": 6,
   "metadata": {
    "colab": {
     "base_uri": "https://localhost:8080/"
    },
    "executionInfo": {
     "elapsed": 231,
     "status": "ok",
     "timestamp": 1629292905079,
     "user": {
      "displayName": "Thomas Allam",
      "photoUrl": "",
      "userId": "01919819717721770658"
     },
     "user_tz": -60
    },
    "id": "G7eBYZzGgCs6",
    "outputId": "db48035c-ffea-4a8b-94d5-2c784e437155"
   },
   "outputs": [
    {
     "name": "stderr",
     "output_type": "stream",
     "text": [
      "WARNING:absl:Found untraced functions such as lstm_cell_layer_call_and_return_conditional_losses, lstm_cell_layer_call_fn, lstm_cell_1_layer_call_and_return_conditional_losses, lstm_cell_1_layer_call_fn, lstm_cell_layer_call_fn while saving (showing 5 of 10). These functions will not be directly callable after loading.\n"
     ]
    },
    {
     "name": "stdout",
     "output_type": "stream",
     "text": [
      "INFO:tensorflow:Assets written to: C:\\Users\\thoma\\Internship\\RNN LSTM model\\Weights\\InorganicInChiWeights\\assets\n"
     ]
    },
    {
     "name": "stderr",
     "output_type": "stream",
     "text": [
      "INFO:tensorflow:Assets written to: C:\\Users\\thoma\\Internship\\RNN LSTM model\\Weights\\InorganicInChiWeights\\assets\n"
     ]
    }
   ],
   "source": [
    "import os\n",
    "PATH = r\"C:\\Users\\thoma\\Internship\\RNN LSTM model\\Weights\\InorganicInChiWeights\"\n",
    "model.save(PATH)"
   ]
  },
  {
   "cell_type": "code",
   "execution_count": 7,
   "metadata": {
    "colab": {
     "base_uri": "https://localhost:8080/",
     "height": 592
    },
    "executionInfo": {
     "elapsed": 691,
     "status": "ok",
     "timestamp": 1629367900346,
     "user": {
      "displayName": "Thomas Allam",
      "photoUrl": "",
      "userId": "01919819717721770658"
     },
     "user_tz": -60
    },
    "id": "dSs-dXhrgNK5",
    "outputId": "17f57eb5-de22-43db-f712-1110fe617e6d"
   },
   "outputs": [
    {
     "name": "stdout",
     "output_type": "stream",
     "text": [
      "dict_keys(['loss', 'accuracy', 'val_loss', 'val_accuracy'])\n"
     ]
    },
    {
     "data": {
      "image/png": "[encoded data removed]",
      "text/plain": [
       "<Figure size 432x288 with 1 Axes>"
      ]
     },
     "metadata": {
      "needs_background": "light"
     },
     "output_type": "display_data"
    },
    {
     "data": {
      "image/png": "[encoded data removed]",
      "text/plain": [
       "<Figure size 432x288 with 1 Axes>"
      ]
     },
     "metadata": {
      "needs_background": "light"
     },
     "output_type": "display_data"
    }
   ],
   "source": [
    "import matplotlib.pyplot as plt\n",
    "# list all data in history\n",
    "print(history.history.keys())\n",
    "# summarize history for accuracy\n",
    "plt.plot(history.history['accuracy'])\n",
    "plt.plot(history.history['val_accuracy'])\n",
    "plt.title('Inorganic Inchi RNN model accuracy')\n",
    "plt.ylabel('Accuracy')\n",
    "plt.xlabel('Epoch')\n",
    "plt.legend(['Training Set', 'Validation set'], loc='lower right')\n",
    "plt.show()\n",
    "# summarize history for loss\n",
    "plt.plot(history.history['loss'])\n",
    "plt.plot(history.history['val_loss'])\n",
    "plt.title('Inorganic Inchi RNN model cross-entropy loss')\n",
    "plt.ylabel('Cross-entropy loss')\n",
    "plt.xlabel('Epoch')\n",
    "plt.legend(['Training Set', 'Validation set'], loc='upper right')\n",
    "plt.show()"
   ]
  },
  {
   "cell_type": "code",
   "execution_count": 8,
   "metadata": {
    "colab": {
     "base_uri": "https://localhost:8080/",
     "height": 651
    },
    "executionInfo": {
     "elapsed": 479,
     "status": "ok",
     "timestamp": 1629367900823,
     "user": {
      "displayName": "Thomas Allam",
      "photoUrl": "",
      "userId": "01919819717721770658"
     },
     "user_tz": -60
    },
    "id": "H4BL-LVewD9o",
    "outputId": "2bacc37d-9230-42e8-c545-dcb96568e890"
   },
   "outputs": [
    {
     "name": "stdout",
     "output_type": "stream",
     "text": [
      "Epoch:   1 Cross-entropy loss: 0.75221848\n",
      "Epoch:   6 Cross-entropy loss: 0.54181713\n",
      "Epoch:  11 Cross-entropy loss: 0.47161365\n",
      "Epoch:  16 Cross-entropy loss: 0.42297095\n",
      "Epoch:  21 Cross-entropy loss: 0.38454822\n",
      "Epoch:  26 Cross-entropy loss: 0.35352647\n",
      "Epoch:  31 Cross-entropy loss: 0.32878968\n",
      "Epoch:  36 Cross-entropy loss: 0.30943456\n",
      "Epoch:  41 Cross-entropy loss: 0.29361963\n",
      "Epoch:  46 Cross-entropy loss: 0.28114146\n"
     ]
    },
    {
     "data": {
      "image/png": "[encoded data removed]",
      "text/plain": [
       "<Figure size 432x288 with 1 Axes>"
      ]
     },
     "metadata": {
      "needs_background": "light"
     },
     "output_type": "display_data"
    }
   ],
   "source": [
    "d=history.history\n",
    "plt.plot(range(epochs), d.get(\"loss\"))\n",
    "plt.ylabel(\"Cross-entropy loss\")\n",
    "plt.xlabel('Epoch');\n",
    "\n",
    "loss=d.get('loss')\n",
    "\n",
    "for i in range(len(loss)):\n",
    "  if i%5 == 1:\n",
    "    print(f'Epoch: {i:3} Cross-entropy loss: {loss[i]:10.8f}')"
   ]
  },
  {
   "cell_type": "code",
   "execution_count": null,
   "metadata": {},
   "outputs": [],
   "source": []
  }
 ],
 "metadata": {
  "accelerator": "GPU",
  "colab": {
   "authorship_tag": "ABX9TyOa4dbGsKURnZjeN5smchDI",
   "collapsed_sections": [],
   "name": "RNN-LSTMInorganicInchi.ipynb",
   "provenance": [
    {
     "file_id": "1nt5YudLySLxhAlyzldKZS_NND751Qj43",
     "timestamp": 1629365307529
    }
   ]
  },
  "kernelspec": {
   "display_name": "Python 3 (ipykernel)",
   "language": "python",
   "name": "python3"
  },
  "language_info": {
   "codemirror_mode": {
    "name": "ipython",
    "version": 3
   },
   "file_extension": ".py",
   "mimetype": "text/x-python",
   "name": "python",
   "nbconvert_exporter": "python",
   "pygments_lexer": "ipython3",
   "version": "3.8.10"
  }
 },
 "nbformat": 4,
 "nbformat_minor": 1
}
